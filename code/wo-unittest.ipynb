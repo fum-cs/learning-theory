{
 "cells": [
  {
   "cell_type": "code",
   "execution_count": 1,
   "metadata": {},
   "outputs": [],
   "source": [
    "!git clone https://github.com/handcraftsman/GeneticAlgorithmsWithPython"
   ]
  },
  {
   "cell_type": "code",
   "execution_count": null,
   "metadata": {},
   "outputs": [],
   "source": [
    "%cd GeneticAlgorithmsWithPython/ch01"
   ]
  },
  {
   "cell_type": "code",
   "execution_count": null,
   "metadata": {},
   "outputs": [],
   "source": [
    "import datetime\n",
    "import random\n",
    "import unittest\n",
    "\n",
    "import genetic\n",
    "\n",
    "geneset = \" abcdefghijklmnopqrstuvwxyzABCDEFGHIJKLMNOPQRSTUVWXYZ!.,\"\n",
    "target = \"Hello World!\"\n",
    "\n",
    "def get_fitness(guess, target=target):\n",
    "    return sum(1 for expected, actual in zip(target, guess)\n",
    "               if expected == actual)\n",
    "\n",
    "def display(candidate):\n",
    "    print(\"{}\\t{}\".format(\n",
    "        candidate.Genes, candidate.Fitness))\n",
    "\n",
    "optimalFitness = len(target)\n",
    "best = genetic.get_best(get_fitness, len(target), optimalFitness,\n",
    "                        geneset, display)\n",
    "\n",
    "best.Genes"
   ]
  }
 ],
 "metadata": {
  "kernelspec": {
   "display_name": "pth",
   "language": "python",
   "name": "python3"
  },
  "language_info": {
   "codemirror_mode": {
    "name": "ipython",
    "version": 3
   },
   "file_extension": ".py",
   "mimetype": "text/x-python",
   "name": "python",
   "nbconvert_exporter": "python",
   "pygments_lexer": "ipython3",
   "version": "3.7.16"
  }
 },
 "nbformat": 4,
 "nbformat_minor": 2
}
