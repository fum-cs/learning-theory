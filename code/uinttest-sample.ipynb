{
 "cells": [
  {
   "cell_type": "code",
   "execution_count": null,
   "metadata": {},
   "outputs": [],
   "source": [
    "import unittest\n",
    "\n",
    "def add_numbers(a, b):\n",
    "    return a + b\n",
    "\n",
    "class TestAddNumbers(unittest.TestCase):\n",
    "\n",
    "    def test_00_add_numbers(self):\n",
    "        result = add_numbers(3, 5)\n",
    "        self.assertEqual(result, 8)\n",
    "\n",
    "    def test_01_add_with_zero(self):\n",
    "        result = add_numbers(-1, 0)\n",
    "        self.assertEqual(result, -1)\n",
    "\n",
    "    def test_02_add_negative_numbers(self):\n",
    "        assert add_numbers(-2, -1) == -3\n",
    "        assert add_numbers(-3, -7) == -10\n",
    "\n",
    "if __name__ == '__main__':\n",
    "    unittest.main()"
   ]
  },
  {
   "cell_type": "markdown",
   "metadata": {},
   "source": [
    "This is a command line entry point. It means that if you execute the script alone by running python test.py at the command line, it will call unittest.main(). This executes the test runner by discovering all classes in this file that inherit from unittest.TestCase."
   ]
  }
 ],
 "metadata": {
  "kernelspec": {
   "display_name": "pth",
   "language": "python",
   "name": "python3"
  },
  "language_info": {
   "codemirror_mode": {
    "name": "ipython",
    "version": 3
   },
   "file_extension": ".py",
   "mimetype": "text/x-python",
   "name": "python",
   "nbconvert_exporter": "python",
   "pygments_lexer": "ipython3",
   "version": "3.10.12"
  }
 },
 "nbformat": 4,
 "nbformat_minor": 2
}
