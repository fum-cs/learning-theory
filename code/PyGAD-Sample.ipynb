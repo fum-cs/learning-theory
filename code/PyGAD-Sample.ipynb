{
 "cells": [
  {
   "cell_type": "code",
   "execution_count": null,
   "metadata": {},
   "outputs": [],
   "source": []
  },
  {
   "cell_type": "code",
   "execution_count": 35,
   "metadata": {},
   "outputs": [],
   "source": [
    "# !pip install pygad"
   ]
  },
  {
   "cell_type": "code",
   "execution_count": 34,
   "metadata": {},
   "outputs": [
    {
     "name": "stdout",
     "output_type": "stream",
     "text": [
      "Best solution: [-4], Fitness: 16\n"
     ]
    }
   ],
   "source": [
    "import pygad\n",
    "import numpy as np\n",
    "\n",
    "# Define the fitness function\n",
    "def fitness_func(instance, solution, solution_idx):\n",
    "    x = solution[0]\n",
    "    return x ** 2  # Minimize x^2\n",
    "\n",
    "# Create the GA instance\n",
    "ga = pygad.GA(num_generations=100,\n",
    "              num_parents_mating=2,\n",
    "              fitness_func=fitness_func,\n",
    "              sol_per_pop=50,\n",
    "              num_genes=1,\n",
    "              gene_type=int,\n",
    "              init_range_low=-5,\n",
    "              init_range_high=5,\n",
    "              crossover_type = \"single_point\",\n",
    "              mutation_type = \"random\",\n",
    "              mutation_percent_genes = 10)\n",
    "\n",
    "# Run the GA\n",
    "ga.run()\n",
    "\n",
    "# Get the best solution\n",
    "solution, solution_fitness, solution_idx = ga.best_solution()\n",
    "\n",
    "print(\"Best solution: {}, Fitness: {}\".format(solution, solution_fitness))\n"
   ]
  },
  {
   "cell_type": "markdown",
   "metadata": {},
   "source": []
  },
  {
   "cell_type": "code",
   "execution_count": 6,
   "metadata": {},
   "outputs": [],
   "source": [
    "function_inputs = [4,-2,3.5,5,-11,-4.7]\n",
    "desired_output = 44"
   ]
  },
  {
   "cell_type": "code",
   "execution_count": 8,
   "metadata": {},
   "outputs": [],
   "source": [
    "def fitness_func(ga_instance, solution, solution_idx):\n",
    "    output = np.sum(solution*function_inputs)\n",
    "    fitness = 1.0 / np.abs(output - desired_output)\n",
    "    return fitness"
   ]
  },
  {
   "cell_type": "code",
   "execution_count": 9,
   "metadata": {},
   "outputs": [],
   "source": [
    "fitness_function = fitness_func\n",
    "\n",
    "num_generations = 50\n",
    "num_parents_mating = 4\n",
    "\n",
    "sol_per_pop = 8\n",
    "num_genes = len(function_inputs)\n",
    "\n",
    "init_range_low = -2\n",
    "init_range_high = 5\n",
    "\n",
    "parent_selection_type = \"sss\"\n",
    "keep_parents = 1\n",
    "\n",
    "crossover_type = \"single_point\"\n",
    "\n",
    "mutation_type = \"random\"\n",
    "mutation_percent_genes = 10"
   ]
  },
  {
   "cell_type": "code",
   "execution_count": 24,
   "metadata": {},
   "outputs": [],
   "source": [
    "ga_instance = pygad.GA(num_generations=num_generations,\n",
    "                       num_parents_mating=num_parents_mating,\n",
    "                       fitness_func=fitness_function,\n",
    "                       sol_per_pop=sol_per_pop,\n",
    "                       num_genes=num_genes,\n",
    "                       init_range_low=init_range_low,\n",
    "                       init_range_high=init_range_high,\n",
    "                       parent_selection_type=parent_selection_type,\n",
    "                       keep_parents=keep_parents,\n",
    "                       crossover_type=crossover_type,\n",
    "                       mutation_type=mutation_type,\n",
    "                       mutation_percent_genes=mutation_percent_genes)"
   ]
  },
  {
   "cell_type": "code",
   "execution_count": 25,
   "metadata": {},
   "outputs": [],
   "source": [
    "ga_instance.run()"
   ]
  },
  {
   "cell_type": "code",
   "execution_count": 26,
   "metadata": {},
   "outputs": [
    {
     "name": "stdout",
     "output_type": "stream",
     "text": [
      "Parameters of the best solution : [ 5.39922448  3.58575573  6.03372014  4.02751219 -0.14768314  2.82096708]\n",
      "Fitness value of the best solution = 21.305096057978115\n",
      "Predicted output based on the best solution : 44.0469371270272\n"
     ]
    }
   ],
   "source": [
    "solution, solution_fitness, solution_idx = ga_instance.best_solution()\n",
    "print(\"Parameters of the best solution : {solution}\".format(solution=solution))\n",
    "print(\"Fitness value of the best solution = {solution_fitness}\".format(solution_fitness=solution_fitness))\n",
    "\n",
    "prediction = np.sum(np.array(function_inputs)*solution)\n",
    "print(\"Predicted output based on the best solution : {prediction}\".format(prediction=prediction))"
   ]
  },
  {
   "cell_type": "code",
   "execution_count": null,
   "metadata": {},
   "outputs": [],
   "source": []
  }
 ],
 "metadata": {
  "kernelspec": {
   "display_name": "pth",
   "language": "python",
   "name": "python3"
  },
  "language_info": {
   "codemirror_mode": {
    "name": "ipython",
    "version": 3
   },
   "file_extension": ".py",
   "mimetype": "text/x-python",
   "name": "python",
   "nbconvert_exporter": "python",
   "pygments_lexer": "ipython3",
   "version": "3.10.12"
  }
 },
 "nbformat": 4,
 "nbformat_minor": 2
}
